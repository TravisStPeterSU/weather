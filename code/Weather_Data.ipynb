{
 "cells": [
  {
   "cell_type": "markdown",
   "id": "440a61d4",
   "metadata": {},
   "source": [
    "# Import libraries"
   ]
  },
  {
   "cell_type": "code",
   "execution_count": 1,
   "id": "7e0bf4e3",
   "metadata": {},
   "outputs": [],
   "source": [
    "# Import pandas, numpy, and matplotlib\n",
    "import pandas as pd\n",
    "import numpy as np\n",
    "import matplotlib.pyplot as plt\n",
    "\n",
    "# seaborn is a data visualization library built on matplotlib\n",
    "import seaborn as sns\n",
    "\n",
    "# set the plotting style\n",
    "sns.set_style(\"whitegrid\")"
   ]
  },
  {
   "cell_type": "markdown",
   "id": "5d6fcd91",
   "metadata": {},
   "source": [
    "# Load data"
   ]
  },
  {
   "cell_type": "markdown",
   "id": "9a7d7b93",
   "metadata": {},
   "source": [
    "## Seattle, Washington data"
   ]
  },
  {
   "cell_type": "code",
   "execution_count": 14,
   "id": "5d14158e",
   "metadata": {},
   "outputs": [
    {
     "data": {
      "text/plain": [
       "pandas.core.frame.DataFrame"
      ]
     },
     "execution_count": 14,
     "metadata": {},
     "output_type": "execute_result"
    }
   ],
   "source": [
    "df_sea = pd.read_csv(\"../data/seattle_rain.csv\")\n",
    "type(df_sea)"
   ]
  },
  {
   "cell_type": "code",
   "execution_count": 17,
   "id": "22aaaf87",
   "metadata": {},
   "outputs": [
    {
     "data": {
      "application/vnd.microsoft.datawrangler.viewer.v0+json": {
       "columns": [
        {
         "name": "index",
         "rawType": "int64",
         "type": "integer"
        },
        {
         "name": "STATION",
         "rawType": "object",
         "type": "string"
        },
        {
         "name": "NAME",
         "rawType": "object",
         "type": "string"
        },
        {
         "name": "DATE",
         "rawType": "object",
         "type": "string"
        },
        {
         "name": "DAPR",
         "rawType": "float64",
         "type": "float"
        },
        {
         "name": "MDPR",
         "rawType": "float64",
         "type": "float"
        },
        {
         "name": "PRCP",
         "rawType": "float64",
         "type": "float"
        },
        {
         "name": "SNOW",
         "rawType": "float64",
         "type": "float"
        },
        {
         "name": "SNWD",
         "rawType": "float64",
         "type": "float"
        },
        {
         "name": "WESD",
         "rawType": "float64",
         "type": "float"
        },
        {
         "name": "WESF",
         "rawType": "float64",
         "type": "float"
        }
       ],
       "ref": "08d0a854-f44f-4d36-9d3f-f21e5ef28e72",
       "rows": [
        [
         "0",
         "US1WAKG0225",
         "SEATTLE 2.1 ESE, WA US",
         "1/1/18",
         null,
         null,
         "0.0",
         null,
         null,
         null,
         null
        ],
        [
         "1",
         "US1WAKG0225",
         "SEATTLE 2.1 ESE, WA US",
         "1/2/18",
         null,
         null,
         "0.0",
         null,
         null,
         null,
         null
        ],
        [
         "2",
         "US1WAKG0225",
         "SEATTLE 2.1 ESE, WA US",
         "1/3/18",
         null,
         null,
         "0.0",
         null,
         null,
         null,
         null
        ],
        [
         "3",
         "US1WAKG0225",
         "SEATTLE 2.1 ESE, WA US",
         "1/4/18",
         null,
         null,
         "0.0",
         null,
         null,
         null,
         null
        ],
        [
         "4",
         "US1WAKG0225",
         "SEATTLE 2.1 ESE, WA US",
         "1/5/18",
         null,
         null,
         "0.25",
         null,
         null,
         null,
         null
        ]
       ],
       "shape": {
        "columns": 10,
        "rows": 5
       }
      },
      "text/html": [
       "<div>\n",
       "<style scoped>\n",
       "    .dataframe tbody tr th:only-of-type {\n",
       "        vertical-align: middle;\n",
       "    }\n",
       "\n",
       "    .dataframe tbody tr th {\n",
       "        vertical-align: top;\n",
       "    }\n",
       "\n",
       "    .dataframe thead th {\n",
       "        text-align: right;\n",
       "    }\n",
       "</style>\n",
       "<table border=\"1\" class=\"dataframe\">\n",
       "  <thead>\n",
       "    <tr style=\"text-align: right;\">\n",
       "      <th></th>\n",
       "      <th>STATION</th>\n",
       "      <th>NAME</th>\n",
       "      <th>DATE</th>\n",
       "      <th>DAPR</th>\n",
       "      <th>MDPR</th>\n",
       "      <th>PRCP</th>\n",
       "      <th>SNOW</th>\n",
       "      <th>SNWD</th>\n",
       "      <th>WESD</th>\n",
       "      <th>WESF</th>\n",
       "    </tr>\n",
       "  </thead>\n",
       "  <tbody>\n",
       "    <tr>\n",
       "      <th>0</th>\n",
       "      <td>US1WAKG0225</td>\n",
       "      <td>SEATTLE 2.1 ESE, WA US</td>\n",
       "      <td>1/1/18</td>\n",
       "      <td>NaN</td>\n",
       "      <td>NaN</td>\n",
       "      <td>0.00</td>\n",
       "      <td>NaN</td>\n",
       "      <td>NaN</td>\n",
       "      <td>NaN</td>\n",
       "      <td>NaN</td>\n",
       "    </tr>\n",
       "    <tr>\n",
       "      <th>1</th>\n",
       "      <td>US1WAKG0225</td>\n",
       "      <td>SEATTLE 2.1 ESE, WA US</td>\n",
       "      <td>1/2/18</td>\n",
       "      <td>NaN</td>\n",
       "      <td>NaN</td>\n",
       "      <td>0.00</td>\n",
       "      <td>NaN</td>\n",
       "      <td>NaN</td>\n",
       "      <td>NaN</td>\n",
       "      <td>NaN</td>\n",
       "    </tr>\n",
       "    <tr>\n",
       "      <th>2</th>\n",
       "      <td>US1WAKG0225</td>\n",
       "      <td>SEATTLE 2.1 ESE, WA US</td>\n",
       "      <td>1/3/18</td>\n",
       "      <td>NaN</td>\n",
       "      <td>NaN</td>\n",
       "      <td>0.00</td>\n",
       "      <td>NaN</td>\n",
       "      <td>NaN</td>\n",
       "      <td>NaN</td>\n",
       "      <td>NaN</td>\n",
       "    </tr>\n",
       "    <tr>\n",
       "      <th>3</th>\n",
       "      <td>US1WAKG0225</td>\n",
       "      <td>SEATTLE 2.1 ESE, WA US</td>\n",
       "      <td>1/4/18</td>\n",
       "      <td>NaN</td>\n",
       "      <td>NaN</td>\n",
       "      <td>0.00</td>\n",
       "      <td>NaN</td>\n",
       "      <td>NaN</td>\n",
       "      <td>NaN</td>\n",
       "      <td>NaN</td>\n",
       "    </tr>\n",
       "    <tr>\n",
       "      <th>4</th>\n",
       "      <td>US1WAKG0225</td>\n",
       "      <td>SEATTLE 2.1 ESE, WA US</td>\n",
       "      <td>1/5/18</td>\n",
       "      <td>NaN</td>\n",
       "      <td>NaN</td>\n",
       "      <td>0.25</td>\n",
       "      <td>NaN</td>\n",
       "      <td>NaN</td>\n",
       "      <td>NaN</td>\n",
       "      <td>NaN</td>\n",
       "    </tr>\n",
       "  </tbody>\n",
       "</table>\n",
       "</div>"
      ],
      "text/plain": [
       "       STATION                    NAME    DATE  DAPR  MDPR  PRCP  SNOW  SNWD  \\\n",
       "0  US1WAKG0225  SEATTLE 2.1 ESE, WA US  1/1/18   NaN   NaN  0.00   NaN   NaN   \n",
       "1  US1WAKG0225  SEATTLE 2.1 ESE, WA US  1/2/18   NaN   NaN  0.00   NaN   NaN   \n",
       "2  US1WAKG0225  SEATTLE 2.1 ESE, WA US  1/3/18   NaN   NaN  0.00   NaN   NaN   \n",
       "3  US1WAKG0225  SEATTLE 2.1 ESE, WA US  1/4/18   NaN   NaN  0.00   NaN   NaN   \n",
       "4  US1WAKG0225  SEATTLE 2.1 ESE, WA US  1/5/18   NaN   NaN  0.25   NaN   NaN   \n",
       "\n",
       "   WESD  WESF  \n",
       "0   NaN   NaN  \n",
       "1   NaN   NaN  \n",
       "2   NaN   NaN  \n",
       "3   NaN   NaN  \n",
       "4   NaN   NaN  "
      ]
     },
     "execution_count": 17,
     "metadata": {},
     "output_type": "execute_result"
    }
   ],
   "source": [
    "df_sea.head()\n",
    "#df_sea.head(10)"
   ]
  },
  {
   "cell_type": "markdown",
   "id": "bb7e1334",
   "metadata": {},
   "source": [
    "## Portland, Maine data"
   ]
  },
  {
   "cell_type": "code",
   "execution_count": 18,
   "id": "adfb081a",
   "metadata": {},
   "outputs": [
    {
     "data": {
      "text/plain": [
       "pandas.core.frame.DataFrame"
      ]
     },
     "execution_count": 18,
     "metadata": {},
     "output_type": "execute_result"
    }
   ],
   "source": [
    "df_pwm = pd.read_csv(\"../data/portland_rain.csv\")\n",
    "type(df_pwm)"
   ]
  },
  {
   "cell_type": "code",
   "execution_count": 19,
   "id": "51a68105",
   "metadata": {},
   "outputs": [
    {
     "data": {
      "application/vnd.microsoft.datawrangler.viewer.v0+json": {
       "columns": [
        {
         "name": "index",
         "rawType": "int64",
         "type": "integer"
        },
        {
         "name": "STATION",
         "rawType": "object",
         "type": "string"
        },
        {
         "name": "NAME",
         "rawType": "object",
         "type": "string"
        },
        {
         "name": "DATE",
         "rawType": "object",
         "type": "string"
        },
        {
         "name": "PRCP",
         "rawType": "float64",
         "type": "float"
        },
        {
         "name": "SNOW",
         "rawType": "float64",
         "type": "float"
        },
        {
         "name": "SNWD",
         "rawType": "float64",
         "type": "float"
        }
       ],
       "ref": "5c253e33-0dc6-415f-932d-b0170e4840e1",
       "rows": [
        [
         "0",
         "USW00014764",
         "PORTLAND JETPORT, ME US",
         "2018-01-01",
         "0.0",
         "0.0",
         "9.1"
        ],
        [
         "1",
         "USW00014764",
         "PORTLAND JETPORT, ME US",
         "2018-01-02",
         "0.0",
         "0.0",
         "9.1"
        ],
        [
         "2",
         "USW00014764",
         "PORTLAND JETPORT, ME US",
         "2018-01-03",
         "0.0",
         "0.0",
         "7.9"
        ],
        [
         "3",
         "USW00014764",
         "PORTLAND JETPORT, ME US",
         "2018-01-04",
         "0.62",
         "11.9",
         "7.9"
        ],
        [
         "4",
         "USW00014764",
         "PORTLAND JETPORT, ME US",
         "2018-01-05",
         "0.01",
         "0.1",
         "16.1"
        ]
       ],
       "shape": {
        "columns": 6,
        "rows": 5
       }
      },
      "text/html": [
       "<div>\n",
       "<style scoped>\n",
       "    .dataframe tbody tr th:only-of-type {\n",
       "        vertical-align: middle;\n",
       "    }\n",
       "\n",
       "    .dataframe tbody tr th {\n",
       "        vertical-align: top;\n",
       "    }\n",
       "\n",
       "    .dataframe thead th {\n",
       "        text-align: right;\n",
       "    }\n",
       "</style>\n",
       "<table border=\"1\" class=\"dataframe\">\n",
       "  <thead>\n",
       "    <tr style=\"text-align: right;\">\n",
       "      <th></th>\n",
       "      <th>STATION</th>\n",
       "      <th>NAME</th>\n",
       "      <th>DATE</th>\n",
       "      <th>PRCP</th>\n",
       "      <th>SNOW</th>\n",
       "      <th>SNWD</th>\n",
       "    </tr>\n",
       "  </thead>\n",
       "  <tbody>\n",
       "    <tr>\n",
       "      <th>0</th>\n",
       "      <td>USW00014764</td>\n",
       "      <td>PORTLAND JETPORT, ME US</td>\n",
       "      <td>2018-01-01</td>\n",
       "      <td>0.00</td>\n",
       "      <td>0.0</td>\n",
       "      <td>9.1</td>\n",
       "    </tr>\n",
       "    <tr>\n",
       "      <th>1</th>\n",
       "      <td>USW00014764</td>\n",
       "      <td>PORTLAND JETPORT, ME US</td>\n",
       "      <td>2018-01-02</td>\n",
       "      <td>0.00</td>\n",
       "      <td>0.0</td>\n",
       "      <td>9.1</td>\n",
       "    </tr>\n",
       "    <tr>\n",
       "      <th>2</th>\n",
       "      <td>USW00014764</td>\n",
       "      <td>PORTLAND JETPORT, ME US</td>\n",
       "      <td>2018-01-03</td>\n",
       "      <td>0.00</td>\n",
       "      <td>0.0</td>\n",
       "      <td>7.9</td>\n",
       "    </tr>\n",
       "    <tr>\n",
       "      <th>3</th>\n",
       "      <td>USW00014764</td>\n",
       "      <td>PORTLAND JETPORT, ME US</td>\n",
       "      <td>2018-01-04</td>\n",
       "      <td>0.62</td>\n",
       "      <td>11.9</td>\n",
       "      <td>7.9</td>\n",
       "    </tr>\n",
       "    <tr>\n",
       "      <th>4</th>\n",
       "      <td>USW00014764</td>\n",
       "      <td>PORTLAND JETPORT, ME US</td>\n",
       "      <td>2018-01-05</td>\n",
       "      <td>0.01</td>\n",
       "      <td>0.1</td>\n",
       "      <td>16.1</td>\n",
       "    </tr>\n",
       "  </tbody>\n",
       "</table>\n",
       "</div>"
      ],
      "text/plain": [
       "       STATION                     NAME        DATE  PRCP  SNOW  SNWD\n",
       "0  USW00014764  PORTLAND JETPORT, ME US  2018-01-01  0.00   0.0   9.1\n",
       "1  USW00014764  PORTLAND JETPORT, ME US  2018-01-02  0.00   0.0   9.1\n",
       "2  USW00014764  PORTLAND JETPORT, ME US  2018-01-03  0.00   0.0   7.9\n",
       "3  USW00014764  PORTLAND JETPORT, ME US  2018-01-04  0.62  11.9   7.9\n",
       "4  USW00014764  PORTLAND JETPORT, ME US  2018-01-05  0.01   0.1  16.1"
      ]
     },
     "execution_count": 19,
     "metadata": {},
     "output_type": "execute_result"
    }
   ],
   "source": [
    "df_pwm.head()\n",
    "#df_pwm.head(10)"
   ]
  },
  {
   "cell_type": "markdown",
   "id": "5df08d3b",
   "metadata": {},
   "source": [
    "# Data exploration"
   ]
  },
  {
   "cell_type": "markdown",
   "id": "8ef34d7b",
   "metadata": {},
   "source": [
    "## Seattle, WA"
   ]
  },
  {
   "cell_type": "code",
   "execution_count": 23,
   "id": "8b007d32",
   "metadata": {},
   "outputs": [
    {
     "data": {
      "text/plain": [
       "(1658, 10)"
      ]
     },
     "execution_count": 23,
     "metadata": {},
     "output_type": "execute_result"
    }
   ],
   "source": [
    "df_sea.shape"
   ]
  },
  {
   "cell_type": "code",
   "execution_count": null,
   "id": "1b561675",
   "metadata": {},
   "outputs": [],
   "source": []
  }
 ],
 "metadata": {
  "kernelspec": {
   "display_name": ".venv",
   "language": "python",
   "name": "python3"
  },
  "language_info": {
   "codemirror_mode": {
    "name": "ipython",
    "version": 3
   },
   "file_extension": ".py",
   "mimetype": "text/x-python",
   "name": "python",
   "nbconvert_exporter": "python",
   "pygments_lexer": "ipython3",
   "version": "3.13.7"
  }
 },
 "nbformat": 4,
 "nbformat_minor": 5
}
